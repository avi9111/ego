{
 "cells": [
  {
   "cell_type": "code",
   "execution_count": 42,
   "metadata": {
    "collapsed": true
   },
   "outputs": [],
   "source": [
    "from pyspark import SparkContext,SparkConf\n",
    "from pyspark.sql import SparkSession"
   ]
  },
  {
   "cell_type": "code",
   "execution_count": 43,
   "metadata": {
    "collapsed": false
   },
   "outputs": [],
   "source": [
    "try:\n",
    "    sc.stop()\n",
    "except:\n",
    "    pass\n",
    "spark = SparkSession \\\n",
    "    .builder.enableHiveSupport() \\\n",
    "    .appName(\"Python Spark SQL basic example\") \\\n",
    "    .config(\"spark.some.config.option\", \"some-value\") \\\n",
    "    .getOrCreate()"
   ]
  },
  {
   "cell_type": "code",
   "execution_count": 44,
   "metadata": {
    "collapsed": false
   },
   "outputs": [],
   "source": [
    "df = spark.read.json(\"/Users/tq/Downloads/logics_shard1009.07.03.2017.log\")"
   ]
  },
  {
   "cell_type": "code",
   "execution_count": 45,
   "metadata": {
    "collapsed": true
   },
   "outputs": [],
   "source": [
    "df.createOrReplaceTempView('RawTable')\n",
    "preparetable = 'RawTable'"
   ]
  },
  {
   "cell_type": "code",
   "execution_count": 46,
   "metadata": {
    "collapsed": true
   },
   "outputs": [],
   "source": [
    "result1 = spark.sql(u'''\n",
    "SELECT\n",
    "    *\n",
    "FROM %s\n",
    "WHERE accountid is not null \n",
    "AND type_name!=\"CorpLevelChg\" \n",
    "'''%preparetable).cache().createOrReplaceTempView('jsonTable')"
   ]
  },
  {
   "cell_type": "code",
   "execution_count": 47,
   "metadata": {
    "collapsed": false
   },
   "outputs": [
    {
     "name": "stdout",
     "output_type": "stream",
     "text": [
      "+-------------------+\n",
      "|            logtime|\n",
      "+-------------------+\n",
      "|1488844668542401853|\n",
      "+-------------------+\n",
      "\n"
     ]
    }
   ],
   "source": [
    "spark.sql(\"select logtime from jsonTable limit 1\").show()"
   ]
  },
  {
   "cell_type": "code",
   "execution_count": 49,
   "metadata": {
    "collapsed": false
   },
   "outputs": [],
   "source": [
    "# SELECT * FROM RawTable WHERE accountid is not null AND dt >= 20160720\n",
    "\n",
    "\n",
    "result2 = spark.sql(u\"\"\"\n",
    "SELECT\n",
    "    t.acid AS acid,\n",
    "    SUBSTRING(t.lt,0,10) AS lt,\n",
    "    CAST(jsonTable.utc8 as DATE) AS date,\n",
    "    jsonTable.sid AS sid,\n",
    "    jsonTable.gid AS gid,\n",
    "    jsonTable.channel AS ch,\n",
    "    jsonTable.info.MachineType AS machine\n",
    "FROM (\n",
    "    SELECT\n",
    "        accountid AS acid,\n",
    "        min(logtime) AS lt\n",
    "    FROM jsonTable\n",
    "    WHERE type_name=\"Login\"\n",
    "    GROUP BY accountid\n",
    ") t\n",
    "LEFT JOIN jsonTable ON jsonTable.accountid = t.acid AND jsonTable.logtime = t.lt\n",
    "\"\"\").cache().createOrReplaceTempView('accountID_ch')"
   ]
  },
  {
   "cell_type": "code",
   "execution_count": 52,
   "metadata": {
    "collapsed": false,
    "scrolled": false
   },
   "outputs": [],
   "source": [
    "result = spark.sql(u\"\"\"\n",
    "SELECT * \n",
    "FROM accountID_ch\n",
    "\"\"\")"
   ]
  },
  {
   "cell_type": "code",
   "execution_count": 53,
   "metadata": {
    "collapsed": false
   },
   "outputs": [
    {
     "name": "stdout",
     "output_type": "stream",
     "text": [
      "+--------------------+----------+----------+----+---+------------+--------------------+\n",
      "|                acid|        lt|      date| sid|gid|          ch|             machine|\n",
      "+--------------------+----------+----------+----+---+------------+--------------------+\n",
      "|200:1009:b43ad44c...|1488929570|2017-03-08|1009|200|130134004600|     HUAWEI FRD-AL00|\n",
      "|200:1009:d47fd3d4...|1488879408|2017-03-07|1009|200|130134004600|           Meizu M3s|\n",
      "|200:1009:6a114571...|1488846543|2017-03-07|1009|200|        5000|    samsung SM-A7009|\n",
      "|200:1009:d62581a9...|1488882221|2017-03-07|1009|200|130134005400|       Xiaomi MI MAX|\n",
      "|200:1009:fff96d0d...|1488907118|2017-03-08|1009|200|         216|         Xiaomi MI 5|\n",
      "|200:1009:e33321ce...|1488903137|2017-03-08|1009|200|130134001300|       OPPO OPPO R7s|\n",
      "|200:1009:3a0685ed...|1488894721|2017-03-07|1009|200|        5000|    samsung SM-N9100|\n",
      "|200:1009:31163d3e...|1488889152|2017-03-07|1009|200|130134001300|HUAWEI HUAWEI NXT...|\n",
      "|200:1009:2b5d190e...|1488858738|2017-03-07|1009|200|130134001500|    samsung SM-A5000|\n",
      "|200:1009:096082e4...|1488906151|2017-03-08|1009|200|130134001500|        360 1501_M02|\n",
      "|200:1009:bfc669d6...|1488848554|2017-03-07|1009|200|130134005400|    Xiaomi Redmi Pro|\n",
      "|200:1009:caa0b5f0...|1488848262|2017-03-07|1009|200|130134001300| Xiaomi Redmi Note 4|\n",
      "|200:1009:2970babd...|1488845759|2017-03-07|1009|200|130134005400|         Xiaomi MI 5|\n",
      "|200:1009:14ffe8f0...|1488877612|2017-03-07|1009|200|130134005400|        Xiaomi MI 4C|\n",
      "|200:1009:444dab53...|1488846395|2017-03-07|1009|200|130134001500|HUAWEI HUAWEI NXT...|\n",
      "|200:1009:e0242f40...|1488845160|2017-03-07|1009|200|130134000001|           Meizu MX4|\n",
      "|200:1009:845d4a43...|1488845762|2017-03-07|1009|200|130134001300|HUAWEI HUAWEI RIO...|\n",
      "|200:1009:f779a3c2...|1488858128|2017-03-07|1009|200|130134005400| Xiaomi Redmi Note 3|\n",
      "|200:1009:2b0773ca...|1488854485|2017-03-07|1009|200|130134001300|   samsung SM-N7506V|\n",
      "|200:1009:4e2d5345...|1488900123|2017-03-07|1009|200|130134000159|       Xiaomi MI MAX|\n",
      "+--------------------+----------+----------+----+---+------------+--------------------+\n",
      "only showing top 20 rows\n",
      "\n"
     ]
    }
   ],
   "source": [
    "result.show()"
   ]
  },
  {
   "cell_type": "code",
   "execution_count": 149,
   "metadata": {
    "collapsed": false,
    "scrolled": true
   },
   "outputs": [],
   "source": [
    "x = result.replace([\"5000\",\"130134000001\"],[\"0\",\"1\"],\"ch\")"
   ]
  },
  {
   "cell_type": "code",
   "execution_count": 150,
   "metadata": {
    "collapsed": false,
    "scrolled": true
   },
   "outputs": [],
   "source": [
    "# x.filter(\"uid= 'ee98bba8-9e9b-4db2-93aa-823127b924c1'\").collect()"
   ]
  },
  {
   "cell_type": "code",
   "execution_count": 154,
   "metadata": {
    "collapsed": false
   },
   "outputs": [
    {
     "name": "stdout",
     "output_type": "stream",
     "text": [
      "+--------------------+----------+----+---+------------+--------------------+----------+\n",
      "|                 uid|      date| sid|gid|          ch|             machine|        lt|\n",
      "+--------------------+----------+----+---+------------+--------------------+----------+\n",
      "|ee98bba8-9e9b-4db...|2017-03-07|1009|200|           1|        Meizu PRO 6s|1488845851|\n",
      "|8858ad42-87ac-438...|2017-03-07|1009|200|130134000201|         Xiaomi MI 2|1488898373|\n",
      "|4d866c11-5fbc-474...|2017-03-07|1009|200|           0|    samsung SM-A9100|1488845358|\n",
      "|caa0b5f0-790b-406...|2017-03-07|1009|200|130134001300| Xiaomi Redmi Note 4|1488848262|\n",
      "|f130ba9e-dab3-429...|2017-03-07|1009|200|130134001500|       Meizu m2 note|1488855421|\n",
      "|8e551efd-ede3-4b1...|2017-03-07|1009|200|130134001335|    LeMobile Le X620|1488849044|\n",
      "|adf1fa44-9ec2-452...|2017-03-07|1009|200|130134005600|华为p8兰博基尼限量版 HUAWE...|1488887172|\n",
      "|26f5011d-5f61-476...|2017-03-07|1009|200|130134004600|    vivo vivo X7Plus|1488869543|\n",
      "|751dde93-019b-4ec...|2017-03-07|1009|200|130134001300|        360 1505-A01|1488870886|\n",
      "|2ad7ffe7-6750-425...|2017-03-07|1009|200|130134001300|       QiKU 8681-M02|1488851147|\n",
      "|a2921d90-b61e-4ef...|2017-03-07|1009|200|           0|    samsung SM-G9250|1488873481|\n",
      "|d47fd3d4-2d63-4b8...|2017-03-07|1009|200|130134004600|           Meizu M3s|1488879408|\n",
      "|4171dc82-ac14-4e4...|2017-03-07|1009|200|130134001500|         HTC HTC One|1488853820|\n",
      "|65050042-4619-40d...|2017-03-07|1009|200|130134005400|       Xiaomi MI MAX|1488877504|\n",
      "|d5cd81f4-6fb4-459...|2017-03-07|1009|200|130134005400|        Xiaomi Mi-4c|1488870826|\n",
      "|e19eeb35-d017-4f2...|2017-03-07|1009|200|130134005400|  Xiaomi MI NOTE Pro|1488857374|\n",
      "|8e48714d-9067-4d0...|2017-03-07|1009|200|130134011000|     HUAWEI ATH-CL00|1488859165|\n",
      "|e33321ce-e4b7-46b...|2017-03-08|1009|200|130134001300|       OPPO OPPO R7s|1488903137|\n",
      "|28c4bfae-b188-414...|2017-03-07|1009|200|130134001300| READBOY Readboy_G90|1488861507|\n",
      "|c5b2f77a-67f6-454...|2017-03-07|1009|200|           0|    samsung SM-G9250|1488882330|\n",
      "+--------------------+----------+----+---+------------+--------------------+----------+\n",
      "only showing top 20 rows\n",
      "\n"
     ]
    }
   ],
   "source": [
    "x.show()"
   ]
  },
  {
   "cell_type": "code",
   "execution_count": 155,
   "metadata": {
    "collapsed": false
   },
   "outputs": [],
   "source": [
    "properties = {\n",
    "    \"user\": \"test1\",\n",
    "    \"password\": \"QmPhaQ8hYsxx\"\n",
    "}"
   ]
  },
  {
   "cell_type": "code",
   "execution_count": 156,
   "metadata": {
    "collapsed": false,
    "scrolled": false
   },
   "outputs": [],
   "source": [
    "x.write.jdbc(\"jdbc:mysql://54.223.192.252:3306/test\", \"bigdatatest22\",\"append\", properties)"
   ]
  },
  {
   "cell_type": "code",
   "execution_count": null,
   "metadata": {
    "collapsed": true
   },
   "outputs": [],
   "source": [
    ""
   ]
  },
  {
   "cell_type": "code",
   "execution_count": null,
   "metadata": {
    "collapsed": true
   },
   "outputs": [],
   "source": [
    ""
   ]
  },
  {
   "cell_type": "code",
   "execution_count": null,
   "metadata": {
    "collapsed": true
   },
   "outputs": [],
   "source": [
    ""
   ]
  }
 ],
 "metadata": {
  "kernelspec": {
   "display_name": "Python 2",
   "language": "python",
   "name": "python2"
  },
  "language_info": {
   "codemirror_mode": {
    "name": "ipython",
    "version": 2.0
   },
   "file_extension": ".py",
   "mimetype": "text/x-python",
   "name": "python",
   "nbconvert_exporter": "python",
   "pygments_lexer": "ipython2",
   "version": "2.7.13"
  }
 },
 "nbformat": 4,
 "nbformat_minor": 0
}