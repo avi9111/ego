{
 "cells": [
  {
   "cell_type": "code",
   "execution_count": 1,
   "metadata": {
    "collapsed": false
   },
   "outputs": [],
   "source": [
    "from pyspark import SparkContext,SparkConf\n",
    "from pyspark.sql import SparkSession\n",
    "from bigdagafriend import *\n",
    "try:\n",
    "    sc.stop()\n",
    "except:\n",
    "    pass\n",
    "spark = SparkSession \\\n",
    "    .builder.enableHiveSupport() \\\n",
    "    .appName(\"Python Spark SQL\") \\\n",
    "    .config(\"spark.some.config.option\", \"some-value\") \\\n",
    "    .getOrCreate()"
   ]
  },
  {
   "cell_type": "code",
   "execution_count": 2,
   "metadata": {
    "collapsed": false
   },
   "outputs": [],
   "source": [
    "df = spark.read.json(\"/Users/tq/Downloads/logics_shard1009.07.03.2017.log\")"
   ]
  },
  {
   "cell_type": "code",
   "execution_count": 3,
   "metadata": {
    "collapsed": false
   },
   "outputs": [],
   "source": [
    "df.createOrReplaceTempView('RawTable')\n",
    "preparetable = 'RawTable'\n",
    "result1 = spark.sql(u'''\n",
    "SELECT\n",
    "    *\n",
    "FROM %s\n",
    "WHERE accountid is not null \n",
    "AND type_name!=\"CorpLevelChg\" \n",
    "'''%preparetable).cache().createOrReplaceTempView('jsonTable')"
   ]
  },
  {
   "cell_type": "code",
   "execution_count": 4,
   "metadata": {
    "collapsed": false
   },
   "outputs": [],
   "source": [
    "result2 = spark.sql(u\"\"\"\n",
    "SELECT\n",
    "    jsonTable.userid as uid,\n",
    "    jsonTable.accountid AS acid,\n",
    "    jsonTable.gid AS gid,\n",
    "    jsonTable.sid AS sid,\n",
    "    jsonTable.channel AS ch,\n",
    "    jsonTable.corplvl AS corpLvl,\n",
    "    jsonTable.info.VipLvl AS vipLvl,\n",
    "    jsonTable.info.Money AS payNum,\n",
    "    jsonTable.info.PayTime AS payTime,\n",
    "    SUBSTRING(jsonTable.logtime,0,10) AS LogTime,\n",
    "    CAST(jsonTable.utc8 as DATE) AS date\n",
    "FROM jsonTable\n",
    "WHERE type_name = \"IAP\"\n",
    "\"\"\").cache().createOrReplaceTempView('account_payTime')"
   ]
  },
  {
   "cell_type": "code",
   "execution_count": 5,
   "metadata": {
    "collapsed": true
   },
   "outputs": [],
   "source": [
    "result = spark.sql(u\"\"\"\n",
    "SELECT * \n",
    "FROM account_payTime\n",
    "\"\"\")"
   ]
  },
  {
   "cell_type": "code",
   "execution_count": 6,
   "metadata": {
    "collapsed": false
   },
   "outputs": [
    {
     "name": "stdout",
     "output_type": "stream",
     "text": [
      "+--------------------+--------------------+---+----+------------+-------+------+------+--------------+----------+----------+\n",
      "|                 uid|                acid|gid| sid|          ch|corpLvl|vipLvl|payNum|       payTime|   LogTime|      date|\n",
      "+--------------------+--------------------+---+----+------------+-------+------+------+--------------+----------+----------+\n",
      "|f6d38e9a-b775-4e6...|200:1009:f6d38e9a...|200|1009|130134005400|     88|    15|  9800|20170307092157|1488849770|2017-03-07|\n",
      "|f6d38e9a-b775-4e6...|200:1009:f6d38e9a...|200|1009|130134005400|     88|    15|   100|20170307092237|1488849770|2017-03-07|\n",
      "|f6d38e9a-b775-4e6...|200:1009:f6d38e9a...|200|1009|130134005400|     88|    15|   100|20170307092252|1488849783|2017-03-07|\n",
      "|d7566633-063f-4bd...|200:1009:d7566633...|200|1009|130134005400|     25|     0|  3000|20170307130531|1488863157|2017-03-07|\n",
      "|2b5d190e-a67f-4c2...|200:1009:2b5d190e...|200|1009|130134001500|     66|    10|  9800|20170307135722|1488866391|2017-03-07|\n",
      "|2b5d190e-a67f-4c2...|200:1009:2b5d190e...|200|1009|130134001500|     66|    10|   100|20170307140248|1488866641|2017-03-07|\n",
      "|ee98bba8-9e9b-4db...|200:1009:ee98bba8...|200|1009|130134000001|     85|    13|  3000|20170307171236|1488877977|2017-03-07|\n",
      "|ee98bba8-9e9b-4db...|200:1009:ee98bba8...|200|1009|130134000001|     85|    13| 19800|20170308072124|1488928907|2017-03-08|\n",
      "|ee98bba8-9e9b-4db...|200:1009:ee98bba8...|200|1009|130134000001|     85|    13|  3000|20170308072230|1488928968|2017-03-08|\n",
      "|3a0685ed-7a9d-443...|200:1009:3a0685ed...|200|1009|        5000|     89|    16|  2500|20170308072507|1488929134|2017-03-08|\n",
      "+--------------------+--------------------+---+----+------------+-------+------+------+--------------+----------+----------+\n",
      "\n"
     ]
    }
   ],
   "source": [
    "result.show()"
   ]
  },
  {
   "cell_type": "code",
   "execution_count": 15,
   "metadata": {
    "collapsed": false
   },
   "outputs": [],
   "source": [
    "x = result.replace([\"130134005400\",\"130134000001\"], [\"0\",\"1\"], \"ch\")"
   ]
  },
  {
   "cell_type": "code",
   "execution_count": 16,
   "metadata": {
    "collapsed": false
   },
   "outputs": [
    {
     "name": "stdout",
     "output_type": "stream",
     "text": [
      "<class 'pyspark.sql.dataframe.DataFrame'>\n"
     ]
    }
   ],
   "source": [
    "print type(x)"
   ]
  },
  {
   "cell_type": "code",
   "execution_count": 17,
   "metadata": {
    "collapsed": false,
    "scrolled": true
   },
   "outputs": [
    {
     "data": {
      "text/html": [
       "<div>\n",
       "<table border=\"1\" class=\"dataframe\">\n",
       "  <thead>\n",
       "    <tr style=\"text-align: right;\">\n",
       "      <th></th>\n",
       "      <th>uid</th>\n",
       "      <th>acid</th>\n",
       "      <th>gid</th>\n",
       "      <th>sid</th>\n",
       "      <th>ch</th>\n",
       "      <th>corpLvl</th>\n",
       "      <th>vipLvl</th>\n",
       "      <th>payNum</th>\n",
       "      <th>payTime</th>\n",
       "      <th>LogTime</th>\n",
       "      <th>date</th>\n",
       "    </tr>\n",
       "  </thead>\n",
       "  <tbody>\n",
       "    <tr>\n",
       "      <th>0</th>\n",
       "      <td>f6d38e9a-b775-4e65-8a9f-5b545ae41e67</td>\n",
       "      <td>200:1009:f6d38e9a-b775-4e65-8a9f-5b545ae41e67</td>\n",
       "      <td>200</td>\n",
       "      <td>1009</td>\n",
       "      <td>0</td>\n",
       "      <td>88</td>\n",
       "      <td>15</td>\n",
       "      <td>9800</td>\n",
       "      <td>20170307092157</td>\n",
       "      <td>1488849770</td>\n",
       "      <td>2017-03-07</td>\n",
       "    </tr>\n",
       "    <tr>\n",
       "      <th>1</th>\n",
       "      <td>f6d38e9a-b775-4e65-8a9f-5b545ae41e67</td>\n",
       "      <td>200:1009:f6d38e9a-b775-4e65-8a9f-5b545ae41e67</td>\n",
       "      <td>200</td>\n",
       "      <td>1009</td>\n",
       "      <td>0</td>\n",
       "      <td>88</td>\n",
       "      <td>15</td>\n",
       "      <td>100</td>\n",
       "      <td>20170307092237</td>\n",
       "      <td>1488849770</td>\n",
       "      <td>2017-03-07</td>\n",
       "    </tr>\n",
       "    <tr>\n",
       "      <th>2</th>\n",
       "      <td>f6d38e9a-b775-4e65-8a9f-5b545ae41e67</td>\n",
       "      <td>200:1009:f6d38e9a-b775-4e65-8a9f-5b545ae41e67</td>\n",
       "      <td>200</td>\n",
       "      <td>1009</td>\n",
       "      <td>0</td>\n",
       "      <td>88</td>\n",
       "      <td>15</td>\n",
       "      <td>100</td>\n",
       "      <td>20170307092252</td>\n",
       "      <td>1488849783</td>\n",
       "      <td>2017-03-07</td>\n",
       "    </tr>\n",
       "    <tr>\n",
       "      <th>3</th>\n",
       "      <td>d7566633-063f-4bde-bb49-9c29c6a5e168</td>\n",
       "      <td>200:1009:d7566633-063f-4bde-bb49-9c29c6a5e168</td>\n",
       "      <td>200</td>\n",
       "      <td>1009</td>\n",
       "      <td>0</td>\n",
       "      <td>25</td>\n",
       "      <td>0</td>\n",
       "      <td>3000</td>\n",
       "      <td>20170307130531</td>\n",
       "      <td>1488863157</td>\n",
       "      <td>2017-03-07</td>\n",
       "    </tr>\n",
       "    <tr>\n",
       "      <th>4</th>\n",
       "      <td>2b5d190e-a67f-4c2c-a588-17ba6c468663</td>\n",
       "      <td>200:1009:2b5d190e-a67f-4c2c-a588-17ba6c468663</td>\n",
       "      <td>200</td>\n",
       "      <td>1009</td>\n",
       "      <td>130134001500</td>\n",
       "      <td>66</td>\n",
       "      <td>10</td>\n",
       "      <td>9800</td>\n",
       "      <td>20170307135722</td>\n",
       "      <td>1488866391</td>\n",
       "      <td>2017-03-07</td>\n",
       "    </tr>\n",
       "    <tr>\n",
       "      <th>5</th>\n",
       "      <td>2b5d190e-a67f-4c2c-a588-17ba6c468663</td>\n",
       "      <td>200:1009:2b5d190e-a67f-4c2c-a588-17ba6c468663</td>\n",
       "      <td>200</td>\n",
       "      <td>1009</td>\n",
       "      <td>130134001500</td>\n",
       "      <td>66</td>\n",
       "      <td>10</td>\n",
       "      <td>100</td>\n",
       "      <td>20170307140248</td>\n",
       "      <td>1488866641</td>\n",
       "      <td>2017-03-07</td>\n",
       "    </tr>\n",
       "    <tr>\n",
       "      <th>6</th>\n",
       "      <td>ee98bba8-9e9b-4db2-93aa-823127b924c1</td>\n",
       "      <td>200:1009:ee98bba8-9e9b-4db2-93aa-823127b924c1</td>\n",
       "      <td>200</td>\n",
       "      <td>1009</td>\n",
       "      <td>1</td>\n",
       "      <td>85</td>\n",
       "      <td>13</td>\n",
       "      <td>3000</td>\n",
       "      <td>20170307171236</td>\n",
       "      <td>1488877977</td>\n",
       "      <td>2017-03-07</td>\n",
       "    </tr>\n",
       "    <tr>\n",
       "      <th>7</th>\n",
       "      <td>ee98bba8-9e9b-4db2-93aa-823127b924c1</td>\n",
       "      <td>200:1009:ee98bba8-9e9b-4db2-93aa-823127b924c1</td>\n",
       "      <td>200</td>\n",
       "      <td>1009</td>\n",
       "      <td>1</td>\n",
       "      <td>85</td>\n",
       "      <td>13</td>\n",
       "      <td>19800</td>\n",
       "      <td>20170308072124</td>\n",
       "      <td>1488928907</td>\n",
       "      <td>2017-03-08</td>\n",
       "    </tr>\n",
       "    <tr>\n",
       "      <th>8</th>\n",
       "      <td>ee98bba8-9e9b-4db2-93aa-823127b924c1</td>\n",
       "      <td>200:1009:ee98bba8-9e9b-4db2-93aa-823127b924c1</td>\n",
       "      <td>200</td>\n",
       "      <td>1009</td>\n",
       "      <td>1</td>\n",
       "      <td>85</td>\n",
       "      <td>13</td>\n",
       "      <td>3000</td>\n",
       "      <td>20170308072230</td>\n",
       "      <td>1488928968</td>\n",
       "      <td>2017-03-08</td>\n",
       "    </tr>\n",
       "    <tr>\n",
       "      <th>9</th>\n",
       "      <td>3a0685ed-7a9d-4432-8a52-83681b30fea5</td>\n",
       "      <td>200:1009:3a0685ed-7a9d-4432-8a52-83681b30fea5</td>\n",
       "      <td>200</td>\n",
       "      <td>1009</td>\n",
       "      <td>5000</td>\n",
       "      <td>89</td>\n",
       "      <td>16</td>\n",
       "      <td>2500</td>\n",
       "      <td>20170308072507</td>\n",
       "      <td>1488929134</td>\n",
       "      <td>2017-03-08</td>\n",
       "    </tr>\n",
       "  </tbody>\n",
       "</table>\n",
       "</div>"
      ],
      "text/plain": [
       "                                    uid  \\\n",
       "0  f6d38e9a-b775-4e65-8a9f-5b545ae41e67   \n",
       "1  f6d38e9a-b775-4e65-8a9f-5b545ae41e67   \n",
       "2  f6d38e9a-b775-4e65-8a9f-5b545ae41e67   \n",
       "3  d7566633-063f-4bde-bb49-9c29c6a5e168   \n",
       "4  2b5d190e-a67f-4c2c-a588-17ba6c468663   \n",
       "5  2b5d190e-a67f-4c2c-a588-17ba6c468663   \n",
       "6  ee98bba8-9e9b-4db2-93aa-823127b924c1   \n",
       "7  ee98bba8-9e9b-4db2-93aa-823127b924c1   \n",
       "8  ee98bba8-9e9b-4db2-93aa-823127b924c1   \n",
       "9  3a0685ed-7a9d-4432-8a52-83681b30fea5   \n",
       "\n",
       "                                            acid  gid   sid            ch  \\\n",
       "0  200:1009:f6d38e9a-b775-4e65-8a9f-5b545ae41e67  200  1009             0   \n",
       "1  200:1009:f6d38e9a-b775-4e65-8a9f-5b545ae41e67  200  1009             0   \n",
       "2  200:1009:f6d38e9a-b775-4e65-8a9f-5b545ae41e67  200  1009             0   \n",
       "3  200:1009:d7566633-063f-4bde-bb49-9c29c6a5e168  200  1009             0   \n",
       "4  200:1009:2b5d190e-a67f-4c2c-a588-17ba6c468663  200  1009  130134001500   \n",
       "5  200:1009:2b5d190e-a67f-4c2c-a588-17ba6c468663  200  1009  130134001500   \n",
       "6  200:1009:ee98bba8-9e9b-4db2-93aa-823127b924c1  200  1009             1   \n",
       "7  200:1009:ee98bba8-9e9b-4db2-93aa-823127b924c1  200  1009             1   \n",
       "8  200:1009:ee98bba8-9e9b-4db2-93aa-823127b924c1  200  1009             1   \n",
       "9  200:1009:3a0685ed-7a9d-4432-8a52-83681b30fea5  200  1009          5000   \n",
       "\n",
       "   corpLvl  vipLvl  payNum         payTime     LogTime        date  \n",
       "0       88      15    9800  20170307092157  1488849770  2017-03-07  \n",
       "1       88      15     100  20170307092237  1488849770  2017-03-07  \n",
       "2       88      15     100  20170307092252  1488849783  2017-03-07  \n",
       "3       25       0    3000  20170307130531  1488863157  2017-03-07  \n",
       "4       66      10    9800  20170307135722  1488866391  2017-03-07  \n",
       "5       66      10     100  20170307140248  1488866641  2017-03-07  \n",
       "6       85      13    3000  20170307171236  1488877977  2017-03-07  \n",
       "7       85      13   19800  20170308072124  1488928907  2017-03-08  \n",
       "8       85      13    3000  20170308072230  1488928968  2017-03-08  \n",
       "9       89      16    2500  20170308072507  1488929134  2017-03-08  "
      ]
     },
     "execution_count": 17,
     "metadata": {},
     "output_type": "execute_result"
    }
   ],
   "source": [
    "x.toPandas()"
   ]
  },
  {
   "cell_type": "code",
   "execution_count": 18,
   "metadata": {
    "collapsed": true
   },
   "outputs": [],
   "source": [
    "properties = {\n",
    "    \"user\": \"test1\",\n",
    "    \"password\": \"QmPhaQ8hYsxx\"\n",
    "}\n",
    "payTableName = \"account_payTime\"\n",
    "url = \"jdbc:mysql://54.223.192.252:3306/test\""
   ]
  },
  {
   "cell_type": "code",
   "execution_count": 19,
   "metadata": {
    "collapsed": false
   },
   "outputs": [],
   "source": [
    "x.write.jdbc(url, payTableName, \"append\", properties)"
   ]
  },
  {
   "cell_type": "code",
   "execution_count": null,
   "metadata": {
    "collapsed": true
   },
   "outputs": [],
   "source": [
    ""
   ]
  }
 ],
 "metadata": {
  "kernelspec": {
   "display_name": "Python 2",
   "language": "python",
   "name": "python2"
  },
  "language_info": {
   "codemirror_mode": {
    "name": "ipython",
    "version": 2.0
   },
   "file_extension": ".py",
   "mimetype": "text/x-python",
   "name": "python",
   "nbconvert_exporter": "python",
   "pygments_lexer": "ipython2",
   "version": "2.7.13"
  }
 },
 "nbformat": 4,
 "nbformat_minor": 0
}